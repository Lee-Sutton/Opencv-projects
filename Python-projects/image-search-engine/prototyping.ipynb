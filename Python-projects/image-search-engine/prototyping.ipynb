{
 "cells": [
  {
   "cell_type": "code",
   "execution_count": 28,
   "metadata": {
    "collapsed": true
   },
   "outputs": [],
   "source": [
    "import numpy as np\n",
    "import cv2\n",
    "\n",
    "class RGBHistogram:\n",
    "    def __init__(self, bins):\n",
    "        \"\"\"docstring for __init__\"\"\"\n",
    "        self.bins = bins\n",
    "\n",
    "    def describe(self, image):\n",
    "        # compute the # compute a 3D histogram in the RGB colorspace,\n",
    "        # then normalize the histogram so that images\n",
    "        # with the same content, but either scaled larger\n",
    "        # or smaller will have (roughly) the same histogram\n",
    "        hist = cv2.calcHist([image], [0, 1, 2],\n",
    "                            None, self.bins, [0, 256, 0, 256, 0, 256])\n",
    "\n",
    "        hist = self.normalize_histogram(hist)\n",
    "\n",
    "        # Return a 3D histrogram as a flatten array\n",
    "        return hist.flatten()\n",
    "    \n",
    "    def normalize_histogram(self, histogram):\n",
    "        # returns the normalized histogram\n",
    "        return histogram / histogram.sum(axis=0)\n"
   ]
  },
  {
   "cell_type": "code",
   "execution_count": 31,
   "metadata": {
    "collapsed": false
   },
   "outputs": [
    {
     "name": "stderr",
     "output_type": "stream",
     "text": [
      "/Users/Lee/.virtualenvs/cv/lib/python2.7/site-packages/ipykernel/__main__.py:24: RuntimeWarning: invalid value encountered in divide\n"
     ]
    },
    {
     "data": {
      "text/plain": [
       "(512,)"
      ]
     },
     "execution_count": 31,
     "metadata": {},
     "output_type": "execute_result"
    }
   ],
   "source": [
    "# Write a test function to try it out\n",
    "import matplotlib.pyplot as plt\n",
    "\n",
    "rgb_test = RGBHistogram([8, 8, 8])\n",
    "image = cv2.imread('images/trex.png')\n",
    "rgb_test.describe(image).shape"
   ]
  },
  {
   "cell_type": "code",
   "execution_count": 22,
   "metadata": {
    "collapsed": false
   },
   "outputs": [],
   "source": [
    "x = [[1.,2.,3.],[1.,2.,4.],[1.,4.,7.]]"
   ]
  },
  {
   "cell_type": "code",
   "execution_count": 23,
   "metadata": {
    "collapsed": true
   },
   "outputs": [],
   "source": [
    "x = np.array(x)"
   ]
  },
  {
   "cell_type": "code",
   "execution_count": 24,
   "metadata": {
    "collapsed": false
   },
   "outputs": [
    {
     "data": {
      "text/plain": [
       "array([[ 1.,  2.,  3.],\n",
       "       [ 1.,  2.,  4.],\n",
       "       [ 1.,  4.,  7.]])"
      ]
     },
     "execution_count": 24,
     "metadata": {},
     "output_type": "execute_result"
    }
   ],
   "source": [
    "x"
   ]
  },
  {
   "cell_type": "code",
   "execution_count": 25,
   "metadata": {
    "collapsed": false
   },
   "outputs": [
    {
     "data": {
      "text/plain": [
       "array([  3.,   8.,  14.])"
      ]
     },
     "execution_count": 25,
     "metadata": {},
     "output_type": "execute_result"
    }
   ],
   "source": [
    "x.sum(axis=0)"
   ]
  },
  {
   "cell_type": "code",
   "execution_count": 26,
   "metadata": {
    "collapsed": false
   },
   "outputs": [],
   "source": [
    "x_normalized = x / x.sum(axis=0)"
   ]
  },
  {
   "cell_type": "code",
   "execution_count": 27,
   "metadata": {
    "collapsed": false
   },
   "outputs": [
    {
     "data": {
      "text/plain": [
       "array([[ 0.33333333,  0.25      ,  0.21428571],\n",
       "       [ 0.33333333,  0.25      ,  0.28571429],\n",
       "       [ 0.33333333,  0.5       ,  0.5       ]])"
      ]
     },
     "execution_count": 27,
     "metadata": {},
     "output_type": "execute_result"
    }
   ],
   "source": [
    "x_normalized"
   ]
  },
  {
   "cell_type": "code",
   "execution_count": null,
   "metadata": {
    "collapsed": true
   },
   "outputs": [],
   "source": []
  }
 ],
 "metadata": {
  "kernelspec": {
   "display_name": "Python 2",
   "language": "python",
   "name": "python2"
  },
  "language_info": {
   "codemirror_mode": {
    "name": "ipython",
    "version": 2
   },
   "file_extension": ".py",
   "mimetype": "text/x-python",
   "name": "python",
   "nbconvert_exporter": "python",
   "pygments_lexer": "ipython2",
   "version": "2.7.12"
  }
 },
 "nbformat": 4,
 "nbformat_minor": 1
}
